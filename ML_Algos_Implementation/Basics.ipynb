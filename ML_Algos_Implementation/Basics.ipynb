{
  "nbformat": 4,
  "nbformat_minor": 0,
  "metadata": {
    "colab": {
      "provenance": []
    },
    "kernelspec": {
      "name": "python3",
      "display_name": "Python 3"
    },
    "language_info": {
      "name": "python"
    }
  },
  "cells": [
    {
      "cell_type": "markdown",
      "source": [
        "# **Activity 1**"
      ],
      "metadata": {
        "id": "QfTefcNr0yU7"
      }
    },
    {
      "cell_type": "code",
      "execution_count": null,
      "metadata": {
        "colab": {
          "base_uri": "https://localhost:8080/"
        },
        "id": "Mf2ub2GQ0H0b",
        "outputId": "4237f0eb-6dcc-4bcc-f298-cc71afe46f27"
      },
      "outputs": [
        {
          "output_type": "stream",
          "name": "stdout",
          "text": [
            "Enter a value :4\n",
            "Enter a value :5\n",
            "Enter a value :6\n",
            "Enter a value :7\n",
            "Enter a value :1\n",
            "The list is : [4, 5, 6, 7, 1]\n"
          ]
        }
      ],
      "source": [
        "myList=[]\n",
        "for i in range(5):\n",
        "  val=int(input(\"Enter a value :\"))\n",
        "  myList.append(val)\n",
        "print(\"The list is :\",myList)"
      ]
    },
    {
      "cell_type": "markdown",
      "source": [
        "# **Activity 2**"
      ],
      "metadata": {
        "id": "Wz3LRgRc1aIy"
      }
    },
    {
      "cell_type": "code",
      "source": [
        "List =[]\n",
        "for i in range(5):\n",
        "  val= int(input(\"Enter a value :\"))\n",
        "  List.append(val)\n",
        "\n",
        "List.sort()\n",
        "print(\"The sorted list is :\",List)"
      ],
      "metadata": {
        "colab": {
          "base_uri": "https://localhost:8080/"
        },
        "id": "_qawbUsN1UQS",
        "outputId": "acd47307-b2a3-4442-9c45-35b991af74cb"
      },
      "execution_count": null,
      "outputs": [
        {
          "output_type": "stream",
          "name": "stdout",
          "text": [
            "Enter a value :3\n",
            "Enter a value :4\n",
            "Enter a value :2\n",
            "Enter a value :4\n",
            "Enter a value :1\n",
            "The sorted list is : [1, 2, 3, 4, 4]\n"
          ]
        }
      ]
    },
    {
      "cell_type": "markdown",
      "source": [
        "# **Activity 3**"
      ],
      "metadata": {
        "id": "Oyw7rdzq2HCZ"
      }
    },
    {
      "cell_type": "code",
      "source": [
        "myList1 = []\n",
        "print(\"Enter 5 values for mylist 1 :\")\n",
        "for i in range(5):\n",
        "  val=int(input(\"Enter a value :\"))\n",
        "\n",
        "  myList1.append(val)\n",
        "\n",
        "myList2 = []\n",
        "print(\"Enter 5 values for mylist 2 :\")\n",
        "for i in range(5):\n",
        "  val=int(input(\"Enter a value :\"))\n",
        "  myList2.append(val)\n",
        "\n",
        "list3= myList1 + myList2\n",
        "print(list3)"
      ],
      "metadata": {
        "colab": {
          "base_uri": "https://localhost:8080/"
        },
        "id": "yZPuZmmz13Vz",
        "outputId": "dafcbe4a-ff10-4be9-84bd-f148d6ad7fdd"
      },
      "execution_count": null,
      "outputs": [
        {
          "output_type": "stream",
          "name": "stdout",
          "text": [
            "Enter 5 values for mylist 1 :\n",
            "Enter a value :8\n",
            "Enter a value :2\n",
            "Enter a value :1\n",
            "Enter a value :3\n",
            "Enter a value :3\n",
            "Enter 5 values for mylist 2 :\n",
            "Enter a value :6\n",
            "Enter a value :2\n",
            "Enter a value :2\n",
            "Enter a value :3\n",
            "Enter a value :1\n",
            "[8, 2, 1, 3, 3, 6, 2, 2, 3, 1]\n"
          ]
        }
      ]
    },
    {
      "cell_type": "markdown",
      "source": [
        "# **Activity 4**"
      ],
      "metadata": {
        "id": "WzPx16Lp3KN6"
      }
    },
    {
      "cell_type": "code",
      "source": [
        "List = [\"Geeks\", \"For\", \"Geeks\"]\n",
        "print(\"\\nList containig multiple values: \")\n",
        "print(List)\n",
        "\n",
        "#Multidimensional list\n",
        "List2 = [['Geeks', 'For'], ['Geeks']]\n",
        "print(\"\\nMulti-Dimensional List: \")\n",
        "print(List2)\n",
        "\n",
        "# list using index number\n",
        "print(\"Accessing element from the list\")\n",
        "print(List[0])\n",
        "print(List[2])\n",
        "\n",
        "# negative indexing\n",
        "print(\"Accessing element using negative indexing\")\n",
        "\n",
        "print(List[-1])\n",
        "print(List[-3])\n"
      ],
      "metadata": {
        "colab": {
          "base_uri": "https://localhost:8080/"
        },
        "id": "E6akI7hl2d7D",
        "outputId": "819fcb27-3256-4f9b-bc4a-1a7f1473ca96"
      },
      "execution_count": null,
      "outputs": [
        {
          "output_type": "stream",
          "name": "stdout",
          "text": [
            "\n",
            "List containig multiple values: \n",
            "['Geeks', 'For', 'Geeks']\n",
            "\n",
            "Multi-Dimensional List: \n",
            "[['Geeks', 'For'], ['Geeks']]\n",
            "Accessing element from the list\n",
            "Geeks\n",
            "Geeks\n",
            "Accessing element using negative indexing\n",
            "Geeks\n",
            "Geeks\n"
          ]
        }
      ]
    },
    {
      "cell_type": "markdown",
      "source": [
        "# **Activity 5**"
      ],
      "metadata": {
        "id": "PXp7esyV4wyn"
      }
    },
    {
      "cell_type": "code",
      "source": [
        "Dict = {'Name': 'Geeks', 1: [1, 2, 3, 4]}\n",
        "print(\"Creating Dictionary: \")\n",
        "print(Dict)\n",
        "\n",
        "print(\"Accessing a element using key:\")\n",
        "print(Dict['Name'])\n",
        "\n",
        "print(\"Accessing a element using get:\")\n",
        "print(Dict.get(1))\n",
        "\n",
        "myDict = {x: x**2 for x in [1,2,3,4,5]}\n",
        "print(myDict)"
      ],
      "metadata": {
        "colab": {
          "base_uri": "https://localhost:8080/"
        },
        "id": "OGygsu9l3cUM",
        "outputId": "ee9eaeb3-ae9a-49eb-f4de-60d641d2b4c3"
      },
      "execution_count": null,
      "outputs": [
        {
          "output_type": "stream",
          "name": "stdout",
          "text": [
            "Creating Dictionary: \n",
            "{'Name': 'Geeks', 1: [1, 2, 3, 4]}\n",
            "Accessing a element using key:\n",
            "Geeks\n",
            "Accessing a element using get:\n",
            "[1, 2, 3, 4]\n",
            "{1: 1, 2: 4, 3: 9, 4: 16, 5: 25}\n"
          ]
        }
      ]
    },
    {
      "cell_type": "code",
      "source": [
        "Dict.items()"
      ],
      "metadata": {
        "colab": {
          "base_uri": "https://localhost:8080/"
        },
        "id": "zgCr1kyS53fh",
        "outputId": "e2d12d01-f371-4d39-b5fa-9b589de93072"
      },
      "execution_count": null,
      "outputs": [
        {
          "output_type": "execute_result",
          "data": {
            "text/plain": [
              "dict_items([('Name', 'Geeks'), (1, [1, 2, 3, 4])])"
            ]
          },
          "metadata": {},
          "execution_count": 15
        }
      ]
    },
    {
      "cell_type": "code",
      "source": [
        "Dict.keys()"
      ],
      "metadata": {
        "colab": {
          "base_uri": "https://localhost:8080/"
        },
        "id": "AJP17mFm6RDy",
        "outputId": "0c72a454-f7af-419d-aa35-1f784e4a42f2"
      },
      "execution_count": null,
      "outputs": [
        {
          "output_type": "execute_result",
          "data": {
            "text/plain": [
              "dict_keys(['Name', 1])"
            ]
          },
          "metadata": {},
          "execution_count": 16
        }
      ]
    },
    {
      "cell_type": "code",
      "source": [
        "Dict.values()"
      ],
      "metadata": {
        "colab": {
          "base_uri": "https://localhost:8080/"
        },
        "id": "CC914e6T6a5m",
        "outputId": "81f41cd6-783e-4ef6-8c05-c4fd9155aaac"
      },
      "execution_count": null,
      "outputs": [
        {
          "output_type": "execute_result",
          "data": {
            "text/plain": [
              "dict_values(['Geeks', [1, 2, 3, 4]])"
            ]
          },
          "metadata": {},
          "execution_count": 17
        }
      ]
    },
    {
      "cell_type": "code",
      "source": [
        "from collections import OrderedDict\n",
        "\n",
        "print(\"Before deleting:\\n\")\n",
        "od = OrderedDict()\n",
        "od['a'] = 1\n",
        "od['b'] = 2\n",
        "od['c'] = 3\n",
        "od['d'] = 4\n",
        "\n",
        "for key, value in od.items():\n",
        "  print(key, value)\n",
        "\n",
        "print(\"\\nAfter deleting:\\n\")\n",
        "od.pop('c')\n",
        "for key, value in od.items():\n",
        "  print(key, value)\n",
        "\n",
        "print(\"\\nAfter re-inserting:\\n\")\n",
        "od['c'] = 3\n",
        "for key, value in od.items():\n",
        "  print(key, value)"
      ],
      "metadata": {
        "colab": {
          "base_uri": "https://localhost:8080/"
        },
        "id": "ILX70p9q6bps",
        "outputId": "cf563fe2-e20e-4112-e6f8-f5e0ee87eff5"
      },
      "execution_count": null,
      "outputs": [
        {
          "output_type": "stream",
          "name": "stdout",
          "text": [
            "Before deleting:\n",
            "\n",
            "a 1\n",
            "b 2\n",
            "c 3\n",
            "d 4\n",
            "\n",
            "After deleting:\n",
            "\n",
            "a 1\n",
            "b 2\n",
            "d 4\n",
            "\n",
            "After re-inserting:\n",
            "\n",
            "a 1\n",
            "b 2\n",
            "d 4\n",
            "c 3\n"
          ]
        }
      ]
    },
    {
      "cell_type": "code",
      "source": [
        "from collections import ChainMap\n",
        "\n",
        "d1 = {'a': 1, 'b': 2}\n",
        "d2 = {'c': 3, 'd': 4}\n",
        "d3 = {'e': 5, 'f': 6}\n",
        "\n",
        "# Defining the chainmap\n",
        "c = ChainMap(d1, d2, d3)\n",
        "print(c)\n",
        "\n",
        "print(c['a'])\n",
        "print(c['g'])"
      ],
      "metadata": {
        "colab": {
          "base_uri": "https://localhost:8080/",
          "height": 356
        },
        "id": "5B1z4tm56shV",
        "outputId": "93069142-8057-4466-ef73-e61048cbcecb"
      },
      "execution_count": null,
      "outputs": [
        {
          "output_type": "stream",
          "name": "stdout",
          "text": [
            "ChainMap({'a': 1, 'b': 2}, {'c': 3, 'd': 4}, {'e': 5, 'f': 6})\n",
            "1\n"
          ]
        },
        {
          "output_type": "error",
          "ename": "KeyError",
          "evalue": "'g'",
          "traceback": [
            "\u001b[0;31m---------------------------------------------------------------------------\u001b[0m",
            "\u001b[0;31mKeyError\u001b[0m                                  Traceback (most recent call last)",
            "\u001b[0;32m<ipython-input-20-47624235720a>\u001b[0m in \u001b[0;36m<cell line: 0>\u001b[0;34m()\u001b[0m\n\u001b[1;32m     10\u001b[0m \u001b[0;34m\u001b[0m\u001b[0m\n\u001b[1;32m     11\u001b[0m \u001b[0mprint\u001b[0m\u001b[0;34m(\u001b[0m\u001b[0mc\u001b[0m\u001b[0;34m[\u001b[0m\u001b[0;34m'a'\u001b[0m\u001b[0;34m]\u001b[0m\u001b[0;34m)\u001b[0m\u001b[0;34m\u001b[0m\u001b[0;34m\u001b[0m\u001b[0m\n\u001b[0;32m---> 12\u001b[0;31m \u001b[0mprint\u001b[0m\u001b[0;34m(\u001b[0m\u001b[0mc\u001b[0m\u001b[0;34m[\u001b[0m\u001b[0;34m'g'\u001b[0m\u001b[0;34m]\u001b[0m\u001b[0;34m)\u001b[0m\u001b[0;34m\u001b[0m\u001b[0;34m\u001b[0m\u001b[0m\n\u001b[0m",
            "\u001b[0;32m/usr/lib/python3.11/collections/__init__.py\u001b[0m in \u001b[0;36m__getitem__\u001b[0;34m(self, key)\u001b[0m\n\u001b[1;32m   1004\u001b[0m             \u001b[0;32mexcept\u001b[0m \u001b[0mKeyError\u001b[0m\u001b[0;34m:\u001b[0m\u001b[0;34m\u001b[0m\u001b[0;34m\u001b[0m\u001b[0m\n\u001b[1;32m   1005\u001b[0m                 \u001b[0;32mpass\u001b[0m\u001b[0;34m\u001b[0m\u001b[0;34m\u001b[0m\u001b[0m\n\u001b[0;32m-> 1006\u001b[0;31m         \u001b[0;32mreturn\u001b[0m \u001b[0mself\u001b[0m\u001b[0;34m.\u001b[0m\u001b[0m__missing__\u001b[0m\u001b[0;34m(\u001b[0m\u001b[0mkey\u001b[0m\u001b[0;34m)\u001b[0m            \u001b[0;31m# support subclasses that define __missing__\u001b[0m\u001b[0;34m\u001b[0m\u001b[0;34m\u001b[0m\u001b[0m\n\u001b[0m\u001b[1;32m   1007\u001b[0m \u001b[0;34m\u001b[0m\u001b[0m\n\u001b[1;32m   1008\u001b[0m     \u001b[0;32mdef\u001b[0m \u001b[0mget\u001b[0m\u001b[0;34m(\u001b[0m\u001b[0mself\u001b[0m\u001b[0;34m,\u001b[0m \u001b[0mkey\u001b[0m\u001b[0;34m,\u001b[0m \u001b[0mdefault\u001b[0m\u001b[0;34m=\u001b[0m\u001b[0;32mNone\u001b[0m\u001b[0;34m)\u001b[0m\u001b[0;34m:\u001b[0m\u001b[0;34m\u001b[0m\u001b[0;34m\u001b[0m\u001b[0m\n",
            "\u001b[0;32m/usr/lib/python3.11/collections/__init__.py\u001b[0m in \u001b[0;36m__missing__\u001b[0;34m(self, key)\u001b[0m\n\u001b[1;32m    996\u001b[0m \u001b[0;34m\u001b[0m\u001b[0m\n\u001b[1;32m    997\u001b[0m     \u001b[0;32mdef\u001b[0m \u001b[0m__missing__\u001b[0m\u001b[0;34m(\u001b[0m\u001b[0mself\u001b[0m\u001b[0;34m,\u001b[0m \u001b[0mkey\u001b[0m\u001b[0;34m)\u001b[0m\u001b[0;34m:\u001b[0m\u001b[0;34m\u001b[0m\u001b[0;34m\u001b[0m\u001b[0m\n\u001b[0;32m--> 998\u001b[0;31m         \u001b[0;32mraise\u001b[0m \u001b[0mKeyError\u001b[0m\u001b[0;34m(\u001b[0m\u001b[0mkey\u001b[0m\u001b[0;34m)\u001b[0m\u001b[0;34m\u001b[0m\u001b[0;34m\u001b[0m\u001b[0m\n\u001b[0m\u001b[1;32m    999\u001b[0m \u001b[0;34m\u001b[0m\u001b[0m\n\u001b[1;32m   1000\u001b[0m     \u001b[0;32mdef\u001b[0m \u001b[0m__getitem__\u001b[0m\u001b[0;34m(\u001b[0m\u001b[0mself\u001b[0m\u001b[0;34m,\u001b[0m \u001b[0mkey\u001b[0m\u001b[0;34m)\u001b[0m\u001b[0;34m:\u001b[0m\u001b[0;34m\u001b[0m\u001b[0;34m\u001b[0m\u001b[0m\n",
            "\u001b[0;31mKeyError\u001b[0m: 'g'"
          ]
        }
      ]
    },
    {
      "cell_type": "markdown",
      "source": [
        "# **Activity 6**"
      ],
      "metadata": {
        "id": "SL467QpjGgfQ"
      }
    },
    {
      "cell_type": "code",
      "source": [
        "Tuple = ('Geeks', 'For')\n",
        "print(\"\\nTuple with the use of String: \")\n",
        "print(Tuple)\n",
        "\n",
        "# the use of list\n",
        "list1 = [1, 2, 4, 5, 6]\n",
        "print(\"\\nTuple using List: \")\n",
        "Tuple = tuple(list1)\n",
        "\n",
        "# Accessing element using indexing\n",
        "print(\"First element of tuple\")\n",
        "print(Tuple[0])\n",
        "\n",
        "# negative indexing\n",
        "print(\"\\nLast element of tuple\")\n",
        "print(Tuple[-1])\n",
        "\n",
        "print(\"\\nThird last element of tuple\")\n",
        "print(Tuple[-3])"
      ],
      "metadata": {
        "colab": {
          "base_uri": "https://localhost:8080/"
        },
        "id": "DsvL-4Hq63SR",
        "outputId": "9434abfe-11e6-4941-f6ba-d32a4e1416df"
      },
      "execution_count": null,
      "outputs": [
        {
          "output_type": "stream",
          "name": "stdout",
          "text": [
            "\n",
            "Tuple with the use of String: \n",
            "('Geeks', 'For')\n",
            "\n",
            "Tuple using List: \n",
            "First element of tuple\n",
            "1\n",
            "\n",
            "Last element of tuple\n",
            "6\n",
            "\n",
            "Third last element of tuple\n",
            "4\n"
          ]
        }
      ]
    },
    {
      "cell_type": "code",
      "source": [
        "from collections import namedtuple\n",
        "\n",
        "Student = namedtuple('Student',['name','age','DOB'])\n",
        "# Adding values\n",
        "S = Student('Akber','19','2541997')\n",
        "# Access using index\n",
        "print (\"The Student age using index is : \",end =\"\")\n",
        "print (S[1])\n",
        "# Access using name\n",
        "print (\"The Student name using keyname is : \",end =\"\")\n",
        "print (S.name)"
      ],
      "metadata": {
        "colab": {
          "base_uri": "https://localhost:8080/"
        },
        "id": "I_O7BgEbG6QK",
        "outputId": "5a3163dc-a865-4e04-b5e3-f3853e470b6a"
      },
      "execution_count": null,
      "outputs": [
        {
          "output_type": "stream",
          "name": "stdout",
          "text": [
            "The Student age using index is : 19\n",
            "The Student name using keyname is : Akber\n"
          ]
        }
      ]
    },
    {
      "cell_type": "markdown",
      "source": [
        "# **Activity 7**"
      ],
      "metadata": {
        "id": "JfrjLFG6AUnu"
      }
    },
    {
      "cell_type": "code",
      "source": [
        "Set = set([1, 2, 'Geeks', 4, 'For', 6, 'Geeks'])\n",
        "print(\"\\nSet with the use of Mixed Values\")\n",
        "print(Set)\n",
        "\n",
        "print(\"\\nElements of set: \")\n",
        "for i in Set:\n",
        "  print(i, end =\" \")\n",
        "print()\n",
        "\n",
        "print(\"Geeks\" in Set)"
      ],
      "metadata": {
        "id": "nMlX891bG9Rm",
        "colab": {
          "base_uri": "https://localhost:8080/"
        },
        "outputId": "704a22ee-beae-43b8-a15a-da2850084ef4"
      },
      "execution_count": 2,
      "outputs": [
        {
          "output_type": "stream",
          "name": "stdout",
          "text": [
            "\n",
            "Set with the use of Mixed Values\n",
            "{1, 2, 'For', 4, 6, 'Geeks'}\n",
            "\n",
            "Elements of set: \n",
            "1 2 For 4 6 Geeks \n",
            "True\n"
          ]
        }
      ]
    },
    {
      "cell_type": "markdown",
      "source": [
        "# **Activity 8**"
      ],
      "metadata": {
        "id": "uXvr8lTUAJMX"
      }
    },
    {
      "cell_type": "code",
      "source": [
        "String = \"Welcome to GeeksForGeeks\"\n",
        "print(\"Creating String: \")\n",
        "print(String)\n",
        "\n",
        "# Printing First character\n",
        "print(\"\\nFirst character of String is: \")\n",
        "print(String[0])\n",
        "\n",
        "# Printing Last character\n",
        "print(\"\\nLast character of String is: \")\n",
        "print(String[-1])"
      ],
      "metadata": {
        "colab": {
          "base_uri": "https://localhost:8080/"
        },
        "id": "UMZB8Z4C_sPu",
        "outputId": "49c1f66c-805a-4f0a-c453-bbc02ce86709"
      },
      "execution_count": 3,
      "outputs": [
        {
          "output_type": "stream",
          "name": "stdout",
          "text": [
            "Creating String: \n",
            "Welcome to GeeksForGeeks\n",
            "\n",
            "First character of String is: \n",
            "W\n",
            "\n",
            "Last character of String is: \n",
            "s\n"
          ]
        }
      ]
    },
    {
      "cell_type": "markdown",
      "source": [
        "# **Activity 9**"
      ],
      "metadata": {
        "id": "52fJqCnKAYjc"
      }
    },
    {
      "cell_type": "code",
      "source": [
        "class Person:\n",
        "    def __init__(self, name, age):\n",
        "        self.name = name\n",
        "        self.age = age\n",
        "    def myfunc(self):\n",
        "        print(\"Hello my name is \" + self.name)\n",
        "        #print(\"Hello my age is \" + self.age)\n",
        "p1 = Person(\"akber\", 36)\n",
        "p1.myfunc()"
      ],
      "metadata": {
        "colab": {
          "base_uri": "https://localhost:8080/"
        },
        "id": "J3Q7-3GG_1zs",
        "outputId": "d376fea7-ca1e-47d6-dd51-8ada0e789b3c"
      },
      "execution_count": 9,
      "outputs": [
        {
          "output_type": "stream",
          "name": "stdout",
          "text": [
            "Hello my name is akber\n"
          ]
        }
      ]
    },
    {
      "cell_type": "markdown",
      "source": [
        "**Activity 10**"
      ],
      "metadata": {
        "id": "0iTOtwROBB98"
      }
    },
    {
      "cell_type": "code",
      "source": [
        "import tracemalloc\n",
        "\n",
        "# code or function for which memory\n",
        "# has to be monitored\n",
        "def app():\n",
        "  lt = []\n",
        "  for i in range(0, 100000):\n",
        "    lt.append(i)\n",
        "\n",
        "# starting the monitoring\n",
        "tracemalloc.start()\n",
        "\n",
        "# function call\n",
        "app()\n",
        "\n",
        "print(tracemalloc.get_traced_memory())\n",
        "tracemalloc.stop()"
      ],
      "metadata": {
        "colab": {
          "base_uri": "https://localhost:8080/"
        },
        "id": "Y2KqXBtpAtHL",
        "outputId": "a2a23e53-3934-4a66-d8a8-84b0da40bb07"
      },
      "execution_count": 10,
      "outputs": [
        {
          "output_type": "stream",
          "name": "stdout",
          "text": [
            "(2361, 3995062)\n"
          ]
        }
      ]
    },
    {
      "cell_type": "markdown",
      "source": [
        "# **Lab Task 1**"
      ],
      "metadata": {
        "id": "eQZXpr09BgL5"
      }
    },
    {
      "cell_type": "code",
      "source": [
        "# i. Create an instance of a class and display the namespace\n",
        "class MyClass:\n",
        "    def __init__(self, name, age):\n",
        "        self.name = name\n",
        "        self.age = age\n",
        "\n",
        "instance = MyClass(\"Alice\", 25)\n",
        "print(\"Namespace of the instance:\", instance.__dict__)\n",
        "\n",
        "# ii. Function to print student data\n",
        "def student_data(student_id, student_name=None, student_class=None):\n",
        "    print(\"Student ID:\", student_id)\n",
        "    if student_name:\n",
        "        print(\"Student Name:\", student_name)\n",
        "    if student_class:\n",
        "        print(\"Student Class:\", student_class)\n",
        "\n",
        "# Testing student_data function\n",
        "student_data(101, \"John Doe\", \"10th Grade\")\n",
        "\n",
        "# iii. Python class and display its type, __dict__ attribute keys, and __module__\n",
        "class Student:\n",
        "    def __init__(self, name, age):\n",
        "        self.name = name\n",
        "        self.age = age\n",
        "\n",
        "print(\"Type of Student class:\", type(Student))\n",
        "print(\"Student class __dict__ keys:\", Student.__dict__.keys())\n",
        "print(\"Student class __module__ attribute:\", Student.__module__)\n",
        "\n",
        "# iv. Create two empty classes and check instances and subclasses\n",
        "class Student:\n",
        "    pass\n",
        "\n",
        "class Marks:\n",
        "    pass\n",
        "\n",
        "student_instance = Student()\n",
        "marks_instance = Marks()\n",
        "\n",
        "print(\"Is student_instance an instance of Student?\", isinstance(student_instance, Student))\n",
        "print(\"Is marks_instance an instance of Marks?\", isinstance(marks_instance, Marks))\n",
        "print(\"Is Student a subclass of object?\", issubclass(Student, object))\n",
        "print(\"Is Marks a subclass of object?\", issubclass(Marks, object))\n",
        "\n",
        "# v. Modify attributes of Student class\n",
        "class Student:\n",
        "    def __init__(self, student_name, marks):\n",
        "        self.student_name = student_name\n",
        "        self.marks = marks\n",
        "\n",
        "student = Student(\"Emma\", 90)\n",
        "print(\"Original values:\", student.__dict__)\n",
        "student.marks = 95\n",
        "print(\"Modified values:\", student.__dict__)\n",
        "\n",
        "# vi. Add and remove attributes in Student class\n",
        "class Student:\n",
        "    def __init__(self, student_id, student_name):\n",
        "        self.student_id = student_id\n",
        "        self.student_name = student_name\n",
        "\n",
        "student = Student(102, \"Michael\")\n",
        "student.student_class = \"10th Grade\"\n",
        "print(\"Attributes before removal:\", student.__dict__)\n",
        "del student.student_name\n",
        "print(\"Attributes after removal:\", student.__dict__)\n",
        "\n",
        "\n",
        "# vii. Function to display attributes of Student class\n",
        "class Student:\n",
        "    def __init__(self, student_id, student_name):\n",
        "        self.student_id = student_id\n",
        "        self.student_name = student_name\n",
        "        self.student_class = \"Not Assigned\"\n",
        "\n",
        "    def display_attributes(self):\n",
        "        for key, value in self.__dict__.items():\n",
        "            print(f\"{key}: {value}\")\n",
        "\n",
        "student = Student(103, \"Sophia\")\n",
        "student.student_class = \"12th Grade\"\n",
        "student.display_attributes()\n",
        "\n",
        "# viii. Creating two instances and printing attributes\n",
        "\n",
        "student1 = Student(201, \"Liam\")\n",
        "student2 = Student(202, \"Olivia\")\n",
        "\n",
        "print(\"\\nStudent 1 Attributes:\")\n",
        "# Assuming display_attributes is a global function defined earlier\n",
        "student1.display_attributes() # call the method on the student instance\n",
        "\n",
        "print(\"\\nStudent 2 Attributes:\")\n",
        "student2.display_attributes()"
      ],
      "metadata": {
        "colab": {
          "base_uri": "https://localhost:8080/"
        },
        "id": "d5XqKcFIBPzd",
        "outputId": "b40c209d-959e-4d02-b1af-8b15ed4a2be8"
      },
      "execution_count": 13,
      "outputs": [
        {
          "output_type": "stream",
          "name": "stdout",
          "text": [
            "Namespace of the instance: {'name': 'Alice', 'age': 25}\n",
            "Student ID: 101\n",
            "Student Name: John Doe\n",
            "Student Class: 10th Grade\n",
            "Type of Student class: <class 'type'>\n",
            "Student class __dict__ keys: dict_keys(['__module__', '__init__', '__dict__', '__weakref__', '__doc__'])\n",
            "Student class __module__ attribute: __main__\n",
            "Is student_instance an instance of Student? True\n",
            "Is marks_instance an instance of Marks? True\n",
            "Is Student a subclass of object? True\n",
            "Is Marks a subclass of object? True\n",
            "Original values: {'student_name': 'Emma', 'marks': 90}\n",
            "Modified values: {'student_name': 'Emma', 'marks': 95}\n",
            "Attributes before removal: {'student_id': 102, 'student_name': 'Michael', 'student_class': '10th Grade'}\n",
            "Attributes after removal: {'student_id': 102, 'student_class': '10th Grade'}\n",
            "student_id: 103\n",
            "student_name: Sophia\n",
            "student_class: 12th Grade\n",
            "\n",
            "Student 1 Attributes:\n",
            "student_id: 201\n",
            "student_name: Liam\n",
            "student_class: Not Assigned\n",
            "\n",
            "Student 2 Attributes:\n",
            "student_id: 202\n",
            "student_name: Olivia\n",
            "student_class: Not Assigned\n"
          ]
        }
      ]
    },
    {
      "cell_type": "markdown",
      "source": [
        "# **Lab Task 2**"
      ],
      "metadata": {
        "id": "Br2kFwu0PyH3"
      }
    },
    {
      "cell_type": "code",
      "source": [
        "class Trapezoid:\n",
        "    def __init__(self, a, b, h):\n",
        "        self.a = a\n",
        "        self.b = b\n",
        "        self.h = h\n",
        "\n",
        "    def area(self):\n",
        "        return 0.5 * (self.a + self.b) * self.h\n",
        "\n",
        "\n",
        "class Parallelogram:\n",
        "    def __init__(self, base, height):\n",
        "        self.base = base\n",
        "        self.height = height\n",
        "\n",
        "    def area(self):\n",
        "        return self.base * self.height\n",
        "\n",
        "\n",
        "class Comparison:\n",
        "    def __init__(self):\n",
        "        self.areas = {}\n",
        "\n",
        "    def add_shape(self, name, area):\n",
        "        self.areas[name] = area\n",
        "\n",
        "    def largest_area(self):\n",
        "        return max(self.areas, key=self.areas.get), max(self.areas.values())\n",
        "\n",
        "\n",
        "trapezoid1 = Trapezoid(10, 8, 5)\n",
        "parallelogram1 = Parallelogram(9, 6)\n",
        "\n",
        "comparison = Comparison()\n",
        "comparison.add_shape(\"Trapezoid\", trapezoid1.area())\n",
        "comparison.add_shape(\"Parallelogram\", parallelogram1.area())\n",
        "\n",
        "largest_shape, largest_area = comparison.largest_area()\n",
        "\n",
        "\n",
        "print(f\"Trapezoid Area: {trapezoid1.area()}\")\n",
        "print(f\"Parallelogram Area: {parallelogram1.area()}\")\n",
        "print(f\"Largest Shape: {largest_shape} with Area: {largest_area}\")\n"
      ],
      "metadata": {
        "colab": {
          "base_uri": "https://localhost:8080/"
        },
        "id": "a0d9qKfdCGaM",
        "outputId": "f9267d65-5f88-4f34-bc6f-75fabeaabfad"
      },
      "execution_count": 15,
      "outputs": [
        {
          "output_type": "stream",
          "name": "stdout",
          "text": [
            "Trapezoid Area: 45.0\n",
            "Parallelogram Area: 54\n",
            "Largest Shape: Parallelogram with Area: 54\n"
          ]
        }
      ]
    }
  ]
}